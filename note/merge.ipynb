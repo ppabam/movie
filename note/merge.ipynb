{
 "cells": [
  {
   "cell_type": "code",
   "execution_count": 2,
   "id": "a4535b82-fd10-4eee-abdc-5333dd68a631",
   "metadata": {},
   "outputs": [],
   "source": [
    "PATH = \"~/data/movies/dailyboxoffice/dt=20240101\""
   ]
  },
  {
   "cell_type": "code",
   "execution_count": 3,
   "id": "8e2a3b5a-b143-4f3f-85e0-db1e05a420bf",
   "metadata": {},
   "outputs": [],
   "source": [
    "import pandas as pd"
   ]
  },
  {
   "cell_type": "code",
   "execution_count": 9,
   "id": "a0f8ad89-578e-4ab6-a745-27e3e208e2be",
   "metadata": {},
   "outputs": [],
   "source": [
    "df = pd.read_parquet(PATH)"
   ]
  },
  {
   "cell_type": "code",
   "execution_count": 10,
   "id": "36cb2da6-646f-4c44-8692-cb5975f3b366",
   "metadata": {},
   "outputs": [
    {
     "data": {
      "text/plain": [
       "100"
      ]
     },
     "execution_count": 10,
     "metadata": {},
     "output_type": "execute_result"
    }
   ],
   "source": [
    "len(df)"
   ]
  },
  {
   "cell_type": "code",
   "execution_count": 6,
   "id": "59f54396-3ffb-46b8-baec-4b1e69a8f177",
   "metadata": {},
   "outputs": [
    {
     "data": {
      "text/plain": [
       "50"
      ]
     },
     "execution_count": 6,
     "metadata": {},
     "output_type": "execute_result"
    }
   ],
   "source": [
    "len(df)"
   ]
  },
  {
   "cell_type": "code",
   "execution_count": null,
   "id": "0ed3ebc5-a6a3-42ee-bc5b-5bdecd1def54",
   "metadata": {},
   "outputs": [],
   "source": []
  }
 ],
 "metadata": {
  "kernelspec": {
   "display_name": "Python 3 (ipykernel)",
   "language": "python",
   "name": "python3"
  },
  "language_info": {
   "codemirror_mode": {
    "name": "ipython",
    "version": 3
   },
   "file_extension": ".py",
   "mimetype": "text/x-python",
   "name": "python",
   "nbconvert_exporter": "python",
   "pygments_lexer": "ipython3",
   "version": "3.10.12"
  }
 },
 "nbformat": 4,
 "nbformat_minor": 5
}
