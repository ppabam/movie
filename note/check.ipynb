{
 "cells": [
  {
   "cell_type": "code",
   "execution_count": 5,
   "id": "56073419-bb68-4d40-a95a-496b82664557",
   "metadata": {},
   "outputs": [],
   "source": [
    "import pandas as pd\n",
    "import pyarrow.dataset as ds"
   ]
  },
  {
   "cell_type": "code",
   "execution_count": 54,
   "id": "e915e9cf-5f68-4856-875e-3f4568ea09f0",
   "metadata": {},
   "outputs": [],
   "source": [
    "def show_non_50(df):\n",
    "    counts_df = df.groupby('dt', observed=False).size().reset_index(name='counts')\n",
    "    print(counts_df[counts_df['counts'] != 50])"
   ]
  },
  {
   "cell_type": "code",
   "execution_count": 55,
   "id": "5ef4f42b-e948-455b-9f85-1d0ab3ac4861",
   "metadata": {},
   "outputs": [
    {
     "name": "stdout",
     "output_type": "stream",
     "text": [
      "Empty DataFrame\n",
      "Columns: [dt, counts]\n",
      "Index: []\n"
     ]
    }
   ],
   "source": [
    "movie_df = pd.read_parquet('~/data/movies/dailyboxoffice')\n",
    "show_non_50(movie_df)"
   ]
  },
  {
   "cell_type": "code",
   "execution_count": 57,
   "id": "40e2aa8d-a96e-4fc4-9850-062e077d7605",
   "metadata": {},
   "outputs": [
    {
     "name": "stdout",
     "output_type": "stream",
     "text": [
      "          dt  counts\n",
      "0   20240101     713\n",
      "1   20240102     713\n",
      "2   20240103     713\n",
      "3   20240104     713\n",
      "4   20240105     713\n",
      "5   20240106     713\n",
      "6   20240107     713\n",
      "7   20240108     713\n",
      "8   20240109     713\n",
      "9   20240110     713\n",
      "10  20240111     713\n",
      "11  20240112     713\n",
      "12  20240113     713\n",
      "13  20240114     713\n",
      "14  20240115     713\n",
      "15  20240116     713\n",
      "16  20240117     713\n",
      "17  20240118     713\n",
      "18  20240119     713\n",
      "19  20240120     713\n",
      "20  20240121     713\n",
      "21  20240122     713\n",
      "22  20240123     713\n",
      "23  20240124     713\n",
      "24  20240125     713\n",
      "25  20240126     713\n",
      "26  20240127     713\n",
      "27  20240128     713\n",
      "28  20240129     713\n",
      "29  20240130     713\n",
      "30  20240131     713\n",
      "31  20240201     713\n",
      "32  20240202     713\n"
     ]
    }
   ],
   "source": [
    "dataset = ds.dataset('~/data/movie_after/dailyboxoffice', format=\"parquet\", partitioning=\"hive\")\n",
    "after_df = dataset.to_table().to_pandas()\n",
    "\n",
    "show_non_50(after_df)"
   ]
  },
  {
   "cell_type": "code",
   "execution_count": null,
   "id": "5cd55fd5-be2b-4e3e-bc26-48c0604db974",
   "metadata": {},
   "outputs": [],
   "source": []
  }
 ],
 "metadata": {
  "kernelspec": {
   "display_name": "Python 3 (ipykernel)",
   "language": "python",
   "name": "python3"
  },
  "language_info": {
   "codemirror_mode": {
    "name": "ipython",
    "version": 3
   },
   "file_extension": ".py",
   "mimetype": "text/x-python",
   "name": "python",
   "nbconvert_exporter": "python",
   "pygments_lexer": "ipython3",
   "version": "3.10.12"
  }
 },
 "nbformat": 4,
 "nbformat_minor": 5
}
