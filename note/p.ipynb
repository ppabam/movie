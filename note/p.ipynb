{
 "cells": [
  {
   "cell_type": "code",
   "execution_count": 4,
   "id": "1eccb2a1-50a3-42c6-b53b-1da1419d90e6",
   "metadata": {},
   "outputs": [],
   "source": [
    "# tree -L 1\n",
    "# ├── dt=20240101\n",
    "# ├── dt=20240102\n",
    "# ├── dt=20240103\n",
    "# └── dt=20240104\n",
    "\n",
    "BASE_PATH = '/home/tom/data/movies/dailyboxoffice'\n",
    "\n",
    "import pandas as pd\n",
    "\n",
    "df = pd.read_parquet(BASE_PATH)"
   ]
  },
  {
   "cell_type": "code",
   "execution_count": 6,
   "id": "7c670bb4-2f83-49c8-9c5c-e2a04a50b065",
   "metadata": {},
   "outputs": [
    {
     "data": {
      "text/plain": [
       "Index(['rnum', 'rank', 'rankInten', 'rankOldAndNew', 'movieCd', 'movieNm',\n",
       "       'openDt', 'salesAmt', 'salesShare', 'salesInten', 'salesChange',\n",
       "       'salesAcc', 'audiCnt', 'audiInten', 'audiChange', 'audiAcc', 'scrnCnt',\n",
       "       'showCnt', 'dt', 'multiMovieYn', 'repNationCd'],\n",
       "      dtype='object')"
      ]
     },
     "execution_count": 6,
     "metadata": {},
     "output_type": "execute_result"
    }
   ],
   "source": [
    "df.columns"
   ]
  },
  {
   "cell_type": "code",
   "execution_count": 7,
   "id": "2b30f2f8-7b01-41db-ad47-0f5a28396fb6",
   "metadata": {},
   "outputs": [],
   "source": [
    "df.to_parquet(\"~/temp/t_p_1\", partition_cols=['openDt','movieCd'])"
   ]
  },
  {
   "cell_type": "code",
   "execution_count": 8,
   "id": "b2f11e83-a5e9-4ea1-8d14-f15173ff84af",
   "metadata": {},
   "outputs": [],
   "source": [
    "# └── openDt=2024-01-17\n",
    "#     └── movieCd=20235854\n",
    "#         └── 2181f2bc6c594a9488a539968bedc7a8-0.parquet"
   ]
  },
  {
   "cell_type": "code",
   "execution_count": 9,
   "id": "c39311bd-c909-4d32-b8b0-afa162a8e424",
   "metadata": {},
   "outputs": [],
   "source": [
    "df.to_parquet(\"~/temp/t_p_2\", \n",
    "              partition_cols=['openDt','salesAmt', 'repNationCd'])"
   ]
  },
  {
   "cell_type": "code",
   "execution_count": null,
   "id": "65b919c4-1416-4b21-bb7f-b5f413b6c9cb",
   "metadata": {},
   "outputs": [],
   "source": [
    "# └── openDt=2024-01-17\n",
    "#     └── salesAmt=4608000\n",
    "#         └── repNationCd=__HIVE_DEFAULT_PARTITION__\n",
    "#             └── 3a259cc4e41d4b48920572184d998efb-0.parquet"
   ]
  }
 ],
 "metadata": {
  "kernelspec": {
   "display_name": "Python 3 (ipykernel)",
   "language": "python",
   "name": "python3"
  },
  "language_info": {
   "codemirror_mode": {
    "name": "ipython",
    "version": 3
   },
   "file_extension": ".py",
   "mimetype": "text/x-python",
   "name": "python",
   "nbconvert_exporter": "python",
   "pygments_lexer": "ipython3",
   "version": "3.10.12"
  }
 },
 "nbformat": 4,
 "nbformat_minor": 5
}
