{
 "cells": [
  {
   "cell_type": "code",
   "execution_count": 1,
   "id": "d548c7c3-4d3f-451a-91c7-346a6d4453af",
   "metadata": {},
   "outputs": [],
   "source": [
    "import pandas as pd"
   ]
  },
  {
   "cell_type": "code",
   "execution_count": 4,
   "id": "b7fc511c-36a1-49b5-9b11-5d35e3c267f9",
   "metadata": {},
   "outputs": [],
   "source": [
    "BP = '~/data/movies/dailyboxoffice/dt=20240101'\n",
    "df1 = pd.read_parquet(f'{BP}/bc5a015df74d4899901dcc8138c932bf-0.parquet')\n",
    "df2 = pd.read_parquet(f'{BP}/multiMovieYn=N')\n",
    "df3 = pd.read_parquet(f'{BP}/multiMovieYn=Y')\n",
    "df4 = pd.read_parquet(f'{BP}/repNationCd=F')\n",
    "df5 = pd.read_parquet(f'{BP}/repNationCd=K')"
   ]
  },
  {
   "cell_type": "code",
   "execution_count": 5,
   "id": "f5be2dc3-c222-47e7-a944-d1641e0e2516",
   "metadata": {},
   "outputs": [
    {
     "name": "stdout",
     "output_type": "stream",
     "text": [
      "df1 vs df2: False\n",
      "df1 vs df3: False\n",
      "df1 vs df4: False\n",
      "df1 vs df5: False\n",
      "df2 vs df3: False\n",
      "df2 vs df4: False\n",
      "df2 vs df5: False\n",
      "df3 vs df4: False\n",
      "df3 vs df5: False\n",
      "df4 vs df5: False\n"
     ]
    }
   ],
   "source": [
    "print(\"df1 vs df2:\", df1.equals(df2))\n",
    "print(\"df1 vs df3:\", df1.equals(df3))\n",
    "print(\"df1 vs df4:\", df1.equals(df4))\n",
    "print(\"df1 vs df5:\", df1.equals(df5))\n",
    "print(\"df2 vs df3:\", df2.equals(df3))\n",
    "print(\"df2 vs df4:\", df2.equals(df4))\n",
    "print(\"df2 vs df5:\", df2.equals(df5))\n",
    "print(\"df3 vs df4:\", df3.equals(df4))\n",
    "print(\"df3 vs df5:\", df3.equals(df5))\n",
    "print(\"df4 vs df5:\", df4.equals(df5))"
   ]
  },
  {
   "cell_type": "code",
   "execution_count": 6,
   "id": "ec9f38af-5fde-48e3-a393-876b0b0948c8",
   "metadata": {},
   "outputs": [],
   "source": [
    "df0 = pd.read_parquet(f'{BP}')"
   ]
  },
  {
   "cell_type": "code",
   "execution_count": 11,
   "id": "58c8c6ea-75ae-4bf1-a312-a81b885eba17",
   "metadata": {},
   "outputs": [],
   "source": [
    "merged_df = pd.concat([df5, df1, df2, df3, df4], ignore_index=True)"
   ]
  },
  {
   "cell_type": "code",
   "execution_count": 12,
   "id": "324f4f52-2be0-4449-bfa6-caf3add2dc61",
   "metadata": {},
   "outputs": [],
   "source": [
    "df0_cleaned = df0.drop(columns=['multiMovieYn', 'repNationCd'])"
   ]
  },
  {
   "cell_type": "code",
   "execution_count": 13,
   "id": "3b92e93b-da00-46e7-8a72-445c6ed57924",
   "metadata": {},
   "outputs": [
    {
     "data": {
      "text/plain": [
       "False"
      ]
     },
     "execution_count": 13,
     "metadata": {},
     "output_type": "execute_result"
    }
   ],
   "source": [
    "merged_df.equals(df0_cleaned)"
   ]
  },
  {
   "cell_type": "code",
   "execution_count": 14,
   "id": "535659bf-acac-497f-a0c4-1b35f38b68b5",
   "metadata": {},
   "outputs": [],
   "source": [
    "merged_df_reset = merged_df.reset_index(drop=True)\n",
    "df0_cleaned_reset = df0_cleaned.reset_index(drop=True)"
   ]
  },
  {
   "cell_type": "code",
   "execution_count": 16,
   "id": "8d3b167b-266a-4c3f-9712-2a7836e05df4",
   "metadata": {},
   "outputs": [
    {
     "data": {
      "text/plain": [
       "False"
      ]
     },
     "execution_count": 16,
     "metadata": {},
     "output_type": "execute_result"
    }
   ],
   "source": [
    "merged_df_reset.equals(df0_cleaned_reset)"
   ]
  },
  {
   "cell_type": "code",
   "execution_count": 17,
   "id": "2750c369-a88d-4a17-a11b-354703d91e95",
   "metadata": {},
   "outputs": [
    {
     "data": {
      "text/html": [
       "<div>\n",
       "<style scoped>\n",
       "    .dataframe tbody tr th:only-of-type {\n",
       "        vertical-align: middle;\n",
       "    }\n",
       "\n",
       "    .dataframe tbody tr th {\n",
       "        vertical-align: top;\n",
       "    }\n",
       "\n",
       "    .dataframe thead th {\n",
       "        text-align: right;\n",
       "    }\n",
       "</style>\n",
       "<table border=\"1\" class=\"dataframe\">\n",
       "  <thead>\n",
       "    <tr style=\"text-align: right;\">\n",
       "      <th></th>\n",
       "      <th>rnum</th>\n",
       "      <th>rank</th>\n",
       "      <th>rankInten</th>\n",
       "      <th>rankOldAndNew</th>\n",
       "      <th>movieCd</th>\n",
       "      <th>movieNm</th>\n",
       "      <th>openDt</th>\n",
       "      <th>salesAmt</th>\n",
       "      <th>salesShare</th>\n",
       "      <th>salesInten</th>\n",
       "      <th>salesChange</th>\n",
       "      <th>salesAcc</th>\n",
       "      <th>audiCnt</th>\n",
       "      <th>audiInten</th>\n",
       "      <th>audiChange</th>\n",
       "      <th>audiAcc</th>\n",
       "      <th>scrnCnt</th>\n",
       "      <th>showCnt</th>\n",
       "      <th>multiMovieYn</th>\n",
       "      <th>repNationCd</th>\n",
       "    </tr>\n",
       "  </thead>\n",
       "  <tbody>\n",
       "    <tr>\n",
       "      <th>26</th>\n",
       "      <td>7</td>\n",
       "      <td>7</td>\n",
       "      <td>5</td>\n",
       "      <td>OLD</td>\n",
       "      <td>20234664</td>\n",
       "      <td>그대들은 어떻게 살 것인가</td>\n",
       "      <td>2023-10-25</td>\n",
       "      <td>3371362</td>\n",
       "      <td>1.4</td>\n",
       "      <td>-142718</td>\n",
       "      <td>-4.1</td>\n",
       "      <td>19543638004</td>\n",
       "      <td>318</td>\n",
       "      <td>-29</td>\n",
       "      <td>-8.4</td>\n",
       "      <td>2009716</td>\n",
       "      <td>17</td>\n",
       "      <td>20</td>\n",
       "      <td>Y</td>\n",
       "      <td>NaN</td>\n",
       "    </tr>\n",
       "  </tbody>\n",
       "</table>\n",
       "</div>"
      ],
      "text/plain": [
       "    rnum  rank  rankInten rankOldAndNew   movieCd         movieNm      openDt  \\\n",
       "26     7     7          5           OLD  20234664  그대들은 어떻게 살 것인가  2023-10-25   \n",
       "\n",
       "    salesAmt  salesShare  salesInten  salesChange     salesAcc  audiCnt  \\\n",
       "26   3371362         1.4     -142718         -4.1  19543638004      318   \n",
       "\n",
       "    audiInten  audiChange  audiAcc  scrnCnt  showCnt multiMovieYn repNationCd  \n",
       "26        -29        -8.4  2009716       17       20            Y         NaN  "
      ]
     },
     "execution_count": 17,
     "metadata": {},
     "output_type": "execute_result"
    }
   ],
   "source": [
    "df0[df0['movieNm'].str.contains('그대들', na=False)]"
   ]
  },
  {
   "cell_type": "code",
   "execution_count": null,
   "id": "86f18c83-a6a1-422a-8f4f-f5400a57f97e",
   "metadata": {},
   "outputs": [],
   "source": []
  }
 ],
 "metadata": {
  "kernelspec": {
   "display_name": "Python 3 (ipykernel)",
   "language": "python",
   "name": "python3"
  },
  "language_info": {
   "codemirror_mode": {
    "name": "ipython",
    "version": 3
   },
   "file_extension": ".py",
   "mimetype": "text/x-python",
   "name": "python",
   "nbconvert_exporter": "python",
   "pygments_lexer": "ipython3",
   "version": "3.10.12"
  }
 },
 "nbformat": 4,
 "nbformat_minor": 5
}
